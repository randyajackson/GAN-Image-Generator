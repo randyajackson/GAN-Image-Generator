{
 "cells": [
  {
   "cell_type": "code",
   "execution_count": null,
   "id": "a7b8b7d6",
   "metadata": {},
   "outputs": [],
   "source": [
    "#Generator and Discriminator\n",
    "#Generator makes fakes and Discriminator decides if real or fake\n",
    "\n",
    "#Building the discriminator\n",
    "#Discriminator is 1 for black and 0 for white in a 2x2 image. \n",
    "#The difference between the Discriminator values and the noise values is the threshold.\n",
    "#Top left and bottom right are positive, the rest are negative.\n",
    "#Perfect would be top left / bottom right 1, the rest 0\n",
    "#Example [Discriminator Total] 1*1 + 0*(-1) + 0*(-1) + 1*1 = 2\n",
    "#[Noise Total] .25*1 + 1 * (-1) + .5 *(-1) + .75 * 1 = -.5\n",
    "#The bias is 1 (subtracted) so Discriminator total is 1 and Noise total is -1.5\n",
    "#If the threshold is more than 1, then it is real.\n",
    "#Sigmoid of 1 is .73 so since 73% chance that it is real is above 50% it's considered real.\n",
    "#Sigmoid of -1.5 is .18 so 18% chance it is real is less than 50% consider it a fake.\n",
    "\n",
    "# Building a generator\n",
    "# In generators we want the bias to be high in top left and bottom right (+1) and low in the others (-1)\n",
    "# Random numbers between 0 and 1 are assigned to all 4 cells but the bias is added.\n",
    "# Example values 1.7, -1.7, 1.7, -1.7 and the sigmoids of these values show .85 and .15\n",
    "# The generator has to learn to apply this bias to get a desired result\n",
    "# Error functions - different error functions can be applied this example uses log loss error function\n",
    "\n",
    "# If label is 1 (desired result) and prediction is .1 that's a large error.\n",
    "# If label is 1 (desired result) and prediction is .9 that's a small error.\n",
    "# Negative log of the prediction number is the error. -ln(.1) = 2.3 and -ln(.9) = .1\n",
    "\n",
    "# If label is 0 (non-desired result) and prediction is .9 that's a large error.\n",
    "# If label is 0 (non-desired result) and prediction is .1 that's a small error.\n",
    "# Negative log of (1 - prediction number) is the error. -ln( 1 - .9) = 2.3 and -ln(1 - .9) = .1\n",
    "\n",
    "#Backpropagation - reduces the error amount as it progresses through the model.\n",
    "\n",
    "#Whole process is the generator creates noise and creates and image then passes it to the discriminator which \n",
    "#calculates a sigmoid and checks if real or fake.\n",
    "#The generators goal is to be closer to 1 using -ln(.68) and the discriminator's goal is being closer to 0 with -ln(1 - .68).\n",
    "#The error functions are updated exclusive to the 2 models because of this making both better."
   ]
  },
  {
   "cell_type": "code",
   "execution_count": 1,
   "id": "33cdd219",
   "metadata": {},
   "outputs": [],
   "source": [
    "from torch.utils.data import DataLoader\n",
    "from torchvision.datasets import ImageFolder\n",
    "import torchvision.transforms as T"
   ]
  },
  {
   "cell_type": "code",
   "execution_count": 2,
   "id": "b7ed5e6e",
   "metadata": {},
   "outputs": [],
   "source": [
    "#We want to normalize the 3 RGB values to a single value between -1 and 1 to increase computing time.\n",
    "#stats = this is the mean (0.5, 0.5, 0.5), this is the standard deviation(0.5, 0.5, 0.5)\n",
    "\n",
    "#There's around 5000 images.\n",
    "#The batch size are the number of samples that will be propagated through the network before updating the model parameters.\n",
    "#Consider RAM/GPU limitations with the pixel size.\n",
    "#Larger batch sizes result in faster progress in training, but don't always converge as fast.\n",
    "#Smaller batch sizes train slower, but can converge faster.\n",
    "#Converging meaning getting a stable value.\n",
    "#32 or 64 is a good starting point\n",
    "\n",
    "DATA_DIR = '/home/development/Desktop/First GAN Project/GAN Image Generator/GAN-Image-Generator/animal-faces/afhq/dog/'\n",
    "batch_size = 32\n",
    "stats = (0.5, 0.5, 0.5), (0.5, 0.5, 0.5)"
   ]
  },
  {
   "cell_type": "code",
   "execution_count": 3,
   "id": "444125db",
   "metadata": {},
   "outputs": [],
   "source": [
    "#When arranging the data, the DATA_DIR needs to be the root with the data as sub folders. (ex: I had to create a 'Dog' subdirectory.)\n",
    "#Tensor has a different meaning in ML versus math.\n",
    "#Tensors allow for GPU acceleration.\n",
    "#Tensors hold the data, weights, and biases. They take care of backpropogation with automatic differentiation.\n",
    "#An image is a 2D array of height x width containing 3 channels for RGB.\n",
    "#ToTensor normalizes the 3 channels to be within 0-1 for each channel.\n",
    "#shuffle - Randomize the data being loaded or not\n",
    "#num_workers - Turn on multi-process data loading with the specified number of loader worker processes\n",
    "#pin_memory - Enables fast data transfer to CUDA-enabled GPUs\n",
    "#The *stats line is passing all of the items in the stats list into the Normalize function call as \n",
    "#separate arguments, without us even needing to know how many arguments are in the list.\n",
    "\n",
    "train_ds = ImageFolder(DATA_DIR, transform=T.Compose([\n",
    "    T.ToTensor(),\n",
    "    T.Normalize(*stats)]))\n",
    "\n",
    "train_dl = DataLoader(train_ds, batch_size, shuffle=True, num_workers=3, pin_memory=True)"
   ]
  },
  {
   "cell_type": "code",
   "execution_count": 4,
   "id": "973e0500",
   "metadata": {},
   "outputs": [],
   "source": [
    "#%matplotlib is a magic function - Line magics are prefixed with the % character and work much like OS command-line calls: \n",
    "#they get as an argument the rest of the line, where arguments are passed without parentheses or quotes.\n",
    "#%matplotlib inline -With this backend, the output of plotting commands is displayed inline within frontends like the Jupyter \n",
    "#notebook, directly below the code cell that produced it. The resulting plots will then also be stored in the notebook document.\n",
    "\n",
    "import torch\n",
    "from torchvision.utils import make_grid\n",
    "import matplotlib.pyplot as plt\n",
    "%matplotlib inline"
   ]
  },
  {
   "cell_type": "code",
   "execution_count": 5,
   "id": "34f8ddee",
   "metadata": {},
   "outputs": [],
   "source": [
    "#normalization formula: y' = y-mean(y) / stdev(y)\n",
    "#denormalization formula: y = y' * stdev(y) + mean(y)\n",
    "#y' here is the normalized tensor value (img_tensors)\n",
    "\n",
    "def denorm(img_tensors):\n",
    "    return img_tensors * stats[1][0] + stats[0][0]"
   ]
  },
  {
   "cell_type": "code",
   "execution_count": 6,
   "id": "c8dd5cfd",
   "metadata": {},
   "outputs": [],
   "source": [
    "#plt.subplots is making the 8x8 cell that the image will go in\n",
    "#ax.set_xticks([]); ax.set_yticks([]) hides any ticks or measurements from x and y axis\n",
    "#Axes.imshow - Display data as an image, i.e., on a 2D regular raster.\n",
    "#torchvision.make_grid - returns a tensor which contains the grid of images. But the channel dimension has to be moved to the \n",
    "#end since that's what matplotlib recognizes\n",
    "#denorm\n",
    "#torch.detach - detach a tensor from the current computational graph. It returns a new tensor that doesn't require a gradient.\n",
    "#images has an additional layer that stores the gradients\n",
    "#to be able to use just the image data, images needs to be detached from that gradient layer\n",
    "#Given a Tensor representing the image, use .permute() to put the channels as the last dimension\n",
    "\n",
    "def show_images(images, nmax=64):\n",
    "    fig, ax = plt.subplots(figsize=(16, 16))\n",
    "    ax.set_xticks([]); ax.set_yticks([])\n",
    "    ax.imshow(make_grid(denorm(images.detach()[:nmax]), nrow=8).permute(1, 2, 0))\n",
    "\n",
    "#images contains the rgb data, _ is reserved for storing the backpropegation, etc\n",
    "#nmax is defaulted to 64\n",
    "def show_batch(dl, nmax=64):\n",
    "    for images, _ in dl:\n",
    "        show_images(images, nmax)\n",
    "        break"
   ]
  },
  {
   "cell_type": "code",
   "execution_count": null,
   "id": "4c780493",
   "metadata": {},
   "outputs": [],
   "source": [
    "#show_batch(train_dl)"
   ]
  },
  {
   "cell_type": "code",
   "execution_count": 7,
   "id": "927c69ac",
   "metadata": {},
   "outputs": [],
   "source": [
    "#torch.cuda.is_available() - Returns a bool indicating if CUDA is currently available.\n",
    "\n",
    "def get_default_device():\n",
    "    \"\"\"Pick GPU if available, else CPU\"\"\"\n",
    "    if torch.cuda.is_available():\n",
    "        return torch.device('cuda')\n",
    "    else:\n",
    "        return torch.device('cpu')\n",
    " \n",
    "#torch.to(other, non_blocking=False, copy=False)  - Returns a Tensor with same torch.dtype and torch.device as the Tensor other. When non_blocking, tries to convert \n",
    "#asynchronously with respect to the host if possible, e.g., converting a CPU Tensor with pinned memory to a CUDA Tensor.\n",
    "\n",
    "def to_device(data, device):\n",
    "    \"\"\"Move tensor(s) to chosen device\"\"\"\n",
    "    if isinstance(data, (list,tuple)):\n",
    "        return [to_device(x, device) for x in data]\n",
    "    return data.to(device, non_blocking=True)\n",
    "\n",
    "#The class devicedataloader() to move data to device (cuda).\n",
    "\n",
    "class DeviceDataLoader():\n",
    "    \"\"\"Wrap a dataloader to move data to a device\"\"\"\n",
    "    #The Default __init__ Constructor in C++ and Java. Constructors are used to initializing the object’s state.\n",
    "    def __init__(self, dl, device):\n",
    "        self.dl = dl\n",
    "        self.device = device\n",
    "    \n",
    "    #The iter() function (which in turn calls the __iter__() method) returns an iterator from them.\n",
    "    #Loads the data loader to cuda device and returns an iterator.\n",
    "    def __iter__(self):\n",
    "        \"\"\"Yield a batch of data after moving it to device\"\"\"\n",
    "        for b in self.dl: \n",
    "            yield to_device(b, self.device)\n",
    "    \n",
    "    #__len__ is how the class executes the len() method\n",
    "    def __len__(self):\n",
    "        \"\"\"Number of batches\"\"\"\n",
    "        return len(self.dl)"
   ]
  },
  {
   "cell_type": "code",
   "execution_count": 8,
   "id": "37dfe1a6",
   "metadata": {},
   "outputs": [],
   "source": [
    "#setting the device to cuda\n",
    "device = get_default_device()\n",
    "#device"
   ]
  },
  {
   "cell_type": "code",
   "execution_count": 9,
   "id": "1700d3c2",
   "metadata": {},
   "outputs": [],
   "source": [
    "#initializing the DeviceDataLoader with the data loader created earlier and the cuda device\n",
    "train_dl = DeviceDataLoader(train_dl, device)"
   ]
  },
  {
   "cell_type": "markdown",
   "id": "ec11edaf",
   "metadata": {},
   "source": [
    "#Training the Discriminator\n",
    "#use a convolutional neural networks (CNN) which outputs a single number output for every image. \n",
    "#We'll use stride of 2 to progressively reduce the size of the output feature map."
   ]
  },
  {
   "cell_type": "code",
   "execution_count": null,
   "id": "2654f075",
   "metadata": {},
   "outputs": [],
   "source": [
    "import torch.nn as nn\n",
    "\n",
    "#images are 512x512\n",
    "\n",
    "#nn.Conv2d - Applies a 2D convolutional layer over an input signal composed of several input planes.\n",
    "#kernel = convolutional matrix\n",
    "#The kernel will move over the whole image, from left to right, from top to bottom by applying a convolution product. \n",
    "#The output of this operation is called a filtered image.\n",
    "#https://towardsdatascience.com/conv2d-to-finally-understand-what-happens-in-the-forward-pass-1bbaafb0b148\n",
    "#torch.nn.Conv2d(in_channels, out_channels, kernel_size, stride=1, padding=0, \n",
    "#dilation=1, groups=1, bias=True, padding_mode='zeros', device=None, dtype=None)\n",
    "#in_channels - 3 since image contains rgb\n",
    "#out_channels - how many filters (Filters detect spatial patterns such as edges in an image by detecting the changes in intensity values of the image.)\n",
    "#kernel_size - sets the size of the filter\n",
    "#stride - how much the frame moves on each iteration -> stride of 2 reduces the size by half each time\n",
    "\n",
    "#nn.BatchNorm2d - The network training converges faster if its weights are linearly transformed to have zero means and unit variances.\n",
    "#Normalizing the outputs from a layer ensures that the scale stays in a specific range as the data flows through \n",
    "#the network from input to output.\n",
    "#The BatchNorm layer calculates the mean and standard deviation with respect to the batch at the time normalization \n",
    "#is applied. This is opposed to the entire dataset with dataset normalization.\n",
    "#It takes input as num_features which is equal to the number of out-channels of the layer above it.\n",
    "\n",
    "#nn.LeakyReLU - Leaky ReLU activation function.\n",
    "#keeps the values from going negative - negative can't be used so it will always be 0 which isn't helpful in the network\n",
    "#Leaky ReLU allows the pass of a small gradient signal for negative values.\n",
    "#Instead of passing a gradient (slope) of 0 in the back-prop pass, it passes a small negative gradient.\n",
    "#Also RRELU randomized leaky relu\n",
    "\n",
    "#nn.Flatten() - a neural net layer\n",
    "#nn.Sigmoid() - sigmoid function is an element-wise operation that squishes any real number into a range between 0 and 1.\n",
    "\n",
    "discriminator = nn.Sequential(\n",
    "    # in: 3 x 512 x 512\n",
    "\n",
    "    nn.Conv2d(3, 512, kernel_size=4, stride=2, padding=0, bias=False),\n",
    "    nn.BatchNorm2d(512),\n",
    "    nn.LeakyReLU(0.2, inplace=True),\n",
    "    # out: 512 x 256 x 256\n",
    "\n",
    "    nn.Conv2d(512, 1024, kernel_size=4, stride=2, padding=0, bias=False),\n",
    "    nn.BatchNorm2d(1024),\n",
    "    nn.LeakyReLU(0.2, inplace=True),\n",
    "    # out: 1024 x 128 x 128\n",
    "\n",
    "    nn.Conv2d(1024, 2048, kernel_size=4, stride=2, padding=0, bias=False),\n",
    "    nn.BatchNorm2d(2048),\n",
    "    nn.LeakyReLU(0.2, inplace=True),\n",
    "    # out: 2048 x 64 x 64\n",
    "\n",
    "    nn.Conv2d(2048, 4096, kernel_size=4, stride=2, padding=0, bias=False),\n",
    "    nn.BatchNorm2d(4096),\n",
    "    nn.LeakyReLU(0.2, inplace=True),\n",
    "    # out: 4096 x 32 x 32\n",
    "                   \n",
    "    nn.Conv2d(4096, 8192, kernel_size=4, stride=2, padding=0, bias=False),\n",
    "    nn.BatchNorm2d(8192),\n",
    "    nn.LeakyReLU(0.2, inplace=True),\n",
    "    # out: 8192 x 16 x 16  \n",
    "                   \n",
    "    nn.Conv2d(8192, 16384, kernel_size=4, stride=2, padding=0, bias=False),\n",
    "    nn.BatchNorm2d(16384),\n",
    "    nn.LeakyReLU(0.2, inplace=True),\n",
    "    # out: 16384 x 8 x 8 \n",
    "                   \n",
    "    nn.Conv2d(16384, 32768, kernel_size=4, stride=2, padding=0, bias=False),\n",
    "    nn.BatchNorm2d(32768),\n",
    "    nn.LeakyReLU(0.2, inplace=True),\n",
    "    # out: 32768 x 4 x 4               \n",
    "\n",
    "    nn.Conv2d(32768, 1, kernel_size=4, stride=1, padding=0, bias=False),\n",
    "    # out: 1 x 1 x 1\n",
    "\n",
    "    nn.Flatten(),\n",
    "    nn.Sigmoid())"
   ]
  },
  {
   "cell_type": "code",
   "execution_count": null,
   "id": "a93e4a76",
   "metadata": {},
   "outputs": [],
   "source": [
    "discriminator = to_device(discriminator, device)"
   ]
  },
  {
   "cell_type": "code",
   "execution_count": null,
   "id": "ba767e16",
   "metadata": {},
   "outputs": [],
   "source": [
    "#Training the generator"
   ]
  },
  {
   "cell_type": "code",
   "execution_count": null,
   "id": "76f376a8",
   "metadata": {},
   "outputs": [],
   "source": [
    "latent_size = 512"
   ]
  },
  {
   "cell_type": "code",
   "execution_count": null,
   "id": "d3b65534",
   "metadata": {},
   "outputs": [],
   "source": [
    "generator = nn.Sequential(\n",
    "    # in: latent_size x 1 x 1\n",
    "\n",
    "    nn.ConvTranspose2d(latent_size, 32768, kernel_size=4, stride=1, padding=0, bias=False),\n",
    "    nn.BatchNorm2d(32768),\n",
    "    nn.ReLU(True),\n",
    "    # out: 32768 x 4 x 4\n",
    "\n",
    "    nn.ConvTranspose2d(32768, 16384, kernel_size=4, stride=2, padding=1, bias=False),\n",
    "    nn.BatchNorm2d(16384),\n",
    "    nn.ReLU(True),\n",
    "    # out: 16384 x 8 x 8\n",
    "\n",
    "    nn.ConvTranspose2d(16384, 8192, kernel_size=4, stride=2, padding=1, bias=False),\n",
    "    nn.BatchNorm2d(8192),\n",
    "    nn.ReLU(True),\n",
    "    # out: 8192 x 16 x 16\n",
    "\n",
    "    nn.ConvTranspose2d(8192, 4096, kernel_size=4, stride=2, padding=1, bias=False),\n",
    "    nn.BatchNorm2d(4096),\n",
    "    nn.ReLU(True),\n",
    "    # out: 4096 x 32 x 32\n",
    "    \n",
    "    nn.ConvTranspose2d(4096, 2048, kernel_size=4, stride=2, padding=1, bias=False),\n",
    "    nn.BatchNorm2d(2048),\n",
    "    nn.ReLU(True),\n",
    "    # out: 2048 x 64 x 64\n",
    "    \n",
    "    nn.ConvTranspose2d(2048, 1024, kernel_size=4, stride=2, padding=1, bias=False),\n",
    "    nn.BatchNorm2d(1024),\n",
    "    nn.ReLU(True),\n",
    "    # out: 1024 x 128 x 128\n",
    "    \n",
    "    nn.ConvTranspose2d(1024, 512, kernel_size=4, stride=2, padding=1, bias=False),\n",
    "    nn.BatchNorm2d(512),\n",
    "    nn.ReLU(True),\n",
    "    # out: 512 x 256 x 256\n",
    "\n",
    "    nn.ConvTranspose2d(512, 3, kernel_size=4, stride=2, padding=1, bias=False),\n",
    "    nn.Tanh()\n",
    "    # out: 3 x 512 x 512\n",
    ")"
   ]
  },
  {
   "cell_type": "code",
   "execution_count": null,
   "id": "c8fa18ae",
   "metadata": {},
   "outputs": [],
   "source": [
    "xb = torch.randn(batch_size, latent_size, 1, 1) # random latent tensors\n",
    "fake_images = generator(xb)\n",
    "print(fake_images.shape)\n",
    "show_images(fake_images)"
   ]
  },
  {
   "cell_type": "code",
   "execution_count": null,
   "id": "4c4a92a1",
   "metadata": {},
   "outputs": [],
   "source": [
    "generator = to_device(generator, device)"
   ]
  },
  {
   "cell_type": "code",
   "execution_count": null,
   "id": "486316d0",
   "metadata": {},
   "outputs": [],
   "source": [
    "def train_discriminator(real_images, opt_d):\n",
    "    # Clear discriminator gradients\n",
    "    opt_d.zero_grad()\n",
    "\n",
    "    # Pass real images through discriminator\n",
    "    real_preds = discriminator(real_images)\n",
    "    real_targets = torch.ones(real_images.size(0), 1, device=device)\n",
    "    real_loss = F.binary_cross_entropy(real_preds, real_targets)\n",
    "    real_score = torch.mean(real_preds).item()\n",
    "    \n",
    "    # Generate fake images\n",
    "    latent = torch.randn(batch_size, latent_size, 1, 1, device=device)\n",
    "    fake_images = generator(latent)\n",
    "\n",
    "    # Pass fake images through discriminator\n",
    "    fake_targets = torch.zeros(fake_images.size(0), 1, device=device)\n",
    "    fake_preds = discriminator(fake_images)\n",
    "    fake_loss = F.binary_cross_entropy(fake_preds, fake_targets)\n",
    "    fake_score = torch.mean(fake_preds).item()\n",
    "\n",
    "    # Update discriminator weights\n",
    "    loss = real_loss + fake_loss\n",
    "    loss.backward()\n",
    "    opt_d.step()\n",
    "    return loss.item(), real_score, fake_score"
   ]
  },
  {
   "cell_type": "code",
   "execution_count": null,
   "id": "a8b0e82b",
   "metadata": {},
   "outputs": [],
   "source": [
    "def train_generator(opt_g):\n",
    "    # Clear generator gradients\n",
    "    opt_g.zero_grad()\n",
    "    \n",
    "    # Generate fake images\n",
    "    latent = torch.randn(batch_size, latent_size, 1, 1, device=device)\n",
    "    fake_images = generator(latent)\n",
    "    \n",
    "    # Try to fool the discriminator\n",
    "    preds = discriminator(fake_images)\n",
    "    targets = torch.ones(batch_size, 1, device=device)\n",
    "    loss = F.binary_cross_entropy(preds, targets)\n",
    "    \n",
    "    # Update generator weights\n",
    "    loss.backward()\n",
    "    opt_g.step()\n",
    "    \n",
    "    return loss.item()"
   ]
  },
  {
   "cell_type": "code",
   "execution_count": null,
   "id": "8b0d2c8e",
   "metadata": {},
   "outputs": [],
   "source": [
    "from torchvision.utils import save_image"
   ]
  },
  {
   "cell_type": "code",
   "execution_count": null,
   "id": "3d993729",
   "metadata": {},
   "outputs": [],
   "source": [
    "import os\n",
    "sample_dir = 'generated'\n",
    "os.makedirs(sample_dir, exist_ok=True)"
   ]
  },
  {
   "cell_type": "code",
   "execution_count": null,
   "id": "126c0546",
   "metadata": {},
   "outputs": [],
   "source": [
    "def save_samples(index, latent_tensors, show=True):\n",
    "    fake_images = generator(latent_tensors)\n",
    "    fake_fname = 'generated-images-{0:0=4d}.png'.format(index)\n",
    "    save_image(denorm(fake_images), os.path.join(sample_dir, fake_fname), nrow=8)\n",
    "    print('Saving', fake_fname)\n",
    "    if show:\n",
    "        fig, ax = plt.subplots(figsize=(8, 8))\n",
    "        ax.set_xticks([]); ax.set_yticks([])\n",
    "        ax.imshow(make_grid(fake_images.cpu().detach(), nrow=8).permute(1, 2, 0))"
   ]
  },
  {
   "cell_type": "code",
   "execution_count": null,
   "id": "46e3c02a",
   "metadata": {},
   "outputs": [],
   "source": [
    "fixed_latent = torch.randn(512, latent_size, 1, 1, device=device)"
   ]
  },
  {
   "cell_type": "code",
   "execution_count": null,
   "id": "6241e351",
   "metadata": {},
   "outputs": [],
   "source": [
    "save_samples(0, fixed_latent)"
   ]
  },
  {
   "cell_type": "code",
   "execution_count": null,
   "id": "f657e9f2",
   "metadata": {},
   "outputs": [],
   "source": [
    "from tqdm.notebook import tqdm\n",
    "import torch.nn.functional as F"
   ]
  },
  {
   "cell_type": "code",
   "execution_count": null,
   "id": "3ad7f171",
   "metadata": {},
   "outputs": [],
   "source": [
    "def fit(epochs, lr, start_idx=1):\n",
    "    torch.cuda.empty_cache()\n",
    "    \n",
    "    # Losses & scores\n",
    "    losses_g = []\n",
    "    losses_d = []\n",
    "    real_scores = []\n",
    "    fake_scores = []\n",
    "    \n",
    "    # Create optimizers\n",
    "    opt_d = torch.optim.Adam(discriminator.parameters(), lr=lr, betas=(0.5, 0.999))\n",
    "    opt_g = torch.optim.Adam(generator.parameters(), lr=lr, betas=(0.5, 0.999))\n",
    "    \n",
    "    for epoch in range(epochs):\n",
    "        for real_images, _ in train_dl:\n",
    "            # Train discriminator\n",
    "            loss_d, real_score, fake_score = train_discriminator(real_images, opt_d)\n",
    "            # Train generator\n",
    "            loss_g = train_generator(opt_g)\n",
    "            \n",
    "        # Record losses & scores\n",
    "        losses_g.append(loss_g)\n",
    "        losses_d.append(loss_d)\n",
    "        real_scores.append(real_score)\n",
    "        fake_scores.append(fake_score)\n",
    "        \n",
    "        # Log losses & scores (last batch)\n",
    "        print(\"Epoch [{}/{}], loss_g: {:.4f}, loss_d: {:.4f}, real_score: {:.4f}, fake_score: {:.4f}\".format(\n",
    "            epoch+1, epochs, loss_g, loss_d, real_score, fake_score))\n",
    "    \n",
    "        # Save generated images\n",
    "        save_samples(epoch+start_idx, fixed_latent, show=False)\n",
    "    \n",
    "    return losses_g, losses_d, real_scores, fake_scores"
   ]
  },
  {
   "cell_type": "code",
   "execution_count": null,
   "id": "f8fba72d",
   "metadata": {},
   "outputs": [],
   "source": [
    "lr = 0.0002\n",
    "epochs = 25"
   ]
  },
  {
   "cell_type": "code",
   "execution_count": null,
   "id": "2abd2434",
   "metadata": {},
   "outputs": [],
   "source": [
    "history = fit(epochs, lr)"
   ]
  },
  {
   "cell_type": "code",
   "execution_count": null,
   "id": "b630452e",
   "metadata": {},
   "outputs": [],
   "source": []
  }
 ],
 "metadata": {
  "kernelspec": {
   "display_name": "Python 3 (ipykernel)",
   "language": "python",
   "name": "python3"
  },
  "language_info": {
   "codemirror_mode": {
    "name": "ipython",
    "version": 3
   },
   "file_extension": ".py",
   "mimetype": "text/x-python",
   "name": "python",
   "nbconvert_exporter": "python",
   "pygments_lexer": "ipython3",
   "version": "3.9.12"
  }
 },
 "nbformat": 4,
 "nbformat_minor": 5
}
